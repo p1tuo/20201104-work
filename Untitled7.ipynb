{
  "nbformat": 4,
  "nbformat_minor": 0,
  "metadata": {
    "colab": {
      "name": "Untitled7.ipynb",
      "provenance": [],
      "authorship_tag": "ABX9TyNu+j7pQ5/n47i+eclSFtxB",
      "include_colab_link": true
    },
    "kernelspec": {
      "name": "python3",
      "display_name": "Python 3"
    }
  },
  "cells": [
    {
      "cell_type": "markdown",
      "metadata": {
        "id": "view-in-github",
        "colab_type": "text"
      },
      "source": [
        "<a href=\"https://colab.research.google.com/github/p1tuo/20201104-work/blob/main/Untitled7.ipynb\" target=\"_parent\"><img src=\"https://colab.research.google.com/assets/colab-badge.svg\" alt=\"Open In Colab\"/></a>"
      ]
    },
    {
      "cell_type": "code",
      "metadata": {
        "id": "xoxvCdHySdik",
        "outputId": "c85d31b3-9e8c-4d75-cd24-73482c38cedd",
        "colab": {
          "base_uri": "https://localhost:8080/"
        }
      },
      "source": [
        "!wget https://raw.githubusercontent.com/wesm/pydata-book/2nd-edition/datasets/fec/P00000001-ALL.csv"
      ],
      "execution_count": 1,
      "outputs": [
        {
          "output_type": "stream",
          "text": [
            "--2020-11-04 03:27:42--  https://raw.githubusercontent.com/wesm/pydata-book/2nd-edition/datasets/fec/P00000001-ALL.csv\n",
            "Resolving raw.githubusercontent.com (raw.githubusercontent.com)... 151.101.0.133, 151.101.64.133, 151.101.128.133, ...\n",
            "Connecting to raw.githubusercontent.com (raw.githubusercontent.com)|151.101.0.133|:443... connected.\n",
            "HTTP request sent, awaiting response... 200 OK\n",
            "Length: 157871393 (151M) [text/plain]\n",
            "Saving to: ‘P00000001-ALL.csv’\n",
            "\n",
            "P00000001-ALL.csv   100%[===================>] 150.56M   101MB/s    in 1.5s    \n",
            "\n",
            "2020-11-04 03:27:44 (101 MB/s) - ‘P00000001-ALL.csv’ saved [157871393/157871393]\n",
            "\n"
          ],
          "name": "stdout"
        }
      ]
    },
    {
      "cell_type": "code",
      "metadata": {
        "id": "2PdEM09BSh4u"
      },
      "source": [
        "import numpy as np\n",
        "import pandas as pd"
      ],
      "execution_count": 2,
      "outputs": []
    },
    {
      "cell_type": "code",
      "metadata": {
        "id": "gKMpOxtlSkx1"
      },
      "source": [
        "pd.options.display.max_rows = 10"
      ],
      "execution_count": 3,
      "outputs": []
    },
    {
      "cell_type": "code",
      "metadata": {
        "id": "CV0otj6DSnc1"
      },
      "source": [
        "fec = pd.read_csv('P00000001-ALL.csv', low_memory=False)"
      ],
      "execution_count": 6,
      "outputs": []
    },
    {
      "cell_type": "code",
      "metadata": {
        "id": "3-o2TbtqSvnt",
        "outputId": "cc0e211d-68d7-4c5d-aabd-ac320a3a4b20",
        "colab": {
          "base_uri": "https://localhost:8080/"
        }
      },
      "source": [
        "fec.info()"
      ],
      "execution_count": 7,
      "outputs": [
        {
          "output_type": "stream",
          "text": [
            "<class 'pandas.core.frame.DataFrame'>\n",
            "RangeIndex: 1001731 entries, 0 to 1001730\n",
            "Data columns (total 16 columns):\n",
            " #   Column             Non-Null Count    Dtype  \n",
            "---  ------             --------------    -----  \n",
            " 0   cmte_id            1001731 non-null  object \n",
            " 1   cand_id            1001731 non-null  object \n",
            " 2   cand_nm            1001731 non-null  object \n",
            " 3   contbr_nm          1001731 non-null  object \n",
            " 4   contbr_city        1001712 non-null  object \n",
            " 5   contbr_st          1001727 non-null  object \n",
            " 6   contbr_zip         1001620 non-null  object \n",
            " 7   contbr_employer    988002 non-null   object \n",
            " 8   contbr_occupation  993301 non-null   object \n",
            " 9   contb_receipt_amt  1001731 non-null  float64\n",
            " 10  contb_receipt_dt   1001731 non-null  object \n",
            " 11  receipt_desc       14166 non-null    object \n",
            " 12  memo_cd            92482 non-null    object \n",
            " 13  memo_text          97770 non-null    object \n",
            " 14  form_tp            1001731 non-null  object \n",
            " 15  file_num           1001731 non-null  int64  \n",
            "dtypes: float64(1), int64(1), object(14)\n",
            "memory usage: 122.3+ MB\n"
          ],
          "name": "stdout"
        }
      ]
    },
    {
      "cell_type": "code",
      "metadata": {
        "id": "rAfNWcqoUlVt",
        "outputId": "b66fc7f6-4112-4830-df75-d126c03cb03a",
        "colab": {
          "base_uri": "https://localhost:8080/",
          "height": 289
        }
      },
      "source": [
        "fec.head(5)"
      ],
      "execution_count": 35,
      "outputs": [
        {
          "output_type": "execute_result",
          "data": {
            "text/html": [
              "<div>\n",
              "<style scoped>\n",
              "    .dataframe tbody tr th:only-of-type {\n",
              "        vertical-align: middle;\n",
              "    }\n",
              "\n",
              "    .dataframe tbody tr th {\n",
              "        vertical-align: top;\n",
              "    }\n",
              "\n",
              "    .dataframe thead th {\n",
              "        text-align: right;\n",
              "    }\n",
              "</style>\n",
              "<table border=\"1\" class=\"dataframe\">\n",
              "  <thead>\n",
              "    <tr style=\"text-align: right;\">\n",
              "      <th></th>\n",
              "      <th>cmte_id</th>\n",
              "      <th>cand_id</th>\n",
              "      <th>cand_nm</th>\n",
              "      <th>contbr_nm</th>\n",
              "      <th>contbr_city</th>\n",
              "      <th>contbr_st</th>\n",
              "      <th>contbr_zip</th>\n",
              "      <th>contbr_employer</th>\n",
              "      <th>contbr_occupation</th>\n",
              "      <th>contb_receipt_amt</th>\n",
              "      <th>contb_receipt_dt</th>\n",
              "      <th>receipt_desc</th>\n",
              "      <th>memo_cd</th>\n",
              "      <th>memo_text</th>\n",
              "      <th>form_tp</th>\n",
              "      <th>file_num</th>\n",
              "      <th>party</th>\n",
              "    </tr>\n",
              "  </thead>\n",
              "  <tbody>\n",
              "    <tr>\n",
              "      <th>0</th>\n",
              "      <td>C00410118</td>\n",
              "      <td>P20002978</td>\n",
              "      <td>Bachmann, Michelle</td>\n",
              "      <td>HARVEY, WILLIAM</td>\n",
              "      <td>MOBILE</td>\n",
              "      <td>AL</td>\n",
              "      <td>366010290</td>\n",
              "      <td>RETIRED</td>\n",
              "      <td>RETIRED</td>\n",
              "      <td>250.0</td>\n",
              "      <td>20-JUN-11</td>\n",
              "      <td>NaN</td>\n",
              "      <td>NaN</td>\n",
              "      <td>NaN</td>\n",
              "      <td>SA17A</td>\n",
              "      <td>736166</td>\n",
              "      <td>Republican</td>\n",
              "    </tr>\n",
              "    <tr>\n",
              "      <th>1</th>\n",
              "      <td>C00410118</td>\n",
              "      <td>P20002978</td>\n",
              "      <td>Bachmann, Michelle</td>\n",
              "      <td>HARVEY, WILLIAM</td>\n",
              "      <td>MOBILE</td>\n",
              "      <td>AL</td>\n",
              "      <td>366010290</td>\n",
              "      <td>RETIRED</td>\n",
              "      <td>RETIRED</td>\n",
              "      <td>50.0</td>\n",
              "      <td>23-JUN-11</td>\n",
              "      <td>NaN</td>\n",
              "      <td>NaN</td>\n",
              "      <td>NaN</td>\n",
              "      <td>SA17A</td>\n",
              "      <td>736166</td>\n",
              "      <td>Republican</td>\n",
              "    </tr>\n",
              "    <tr>\n",
              "      <th>2</th>\n",
              "      <td>C00410118</td>\n",
              "      <td>P20002978</td>\n",
              "      <td>Bachmann, Michelle</td>\n",
              "      <td>SMITH, LANIER</td>\n",
              "      <td>LANETT</td>\n",
              "      <td>AL</td>\n",
              "      <td>368633403</td>\n",
              "      <td>NOT PROVIDED</td>\n",
              "      <td>NOT PROVIDED</td>\n",
              "      <td>250.0</td>\n",
              "      <td>05-JUL-11</td>\n",
              "      <td>NaN</td>\n",
              "      <td>NaN</td>\n",
              "      <td>NaN</td>\n",
              "      <td>SA17A</td>\n",
              "      <td>749073</td>\n",
              "      <td>Republican</td>\n",
              "    </tr>\n",
              "    <tr>\n",
              "      <th>3</th>\n",
              "      <td>C00410118</td>\n",
              "      <td>P20002978</td>\n",
              "      <td>Bachmann, Michelle</td>\n",
              "      <td>BLEVINS, DARONDA</td>\n",
              "      <td>PIGGOTT</td>\n",
              "      <td>AR</td>\n",
              "      <td>724548253</td>\n",
              "      <td>NONE</td>\n",
              "      <td>RETIRED</td>\n",
              "      <td>250.0</td>\n",
              "      <td>01-AUG-11</td>\n",
              "      <td>NaN</td>\n",
              "      <td>NaN</td>\n",
              "      <td>NaN</td>\n",
              "      <td>SA17A</td>\n",
              "      <td>749073</td>\n",
              "      <td>Republican</td>\n",
              "    </tr>\n",
              "    <tr>\n",
              "      <th>4</th>\n",
              "      <td>C00410118</td>\n",
              "      <td>P20002978</td>\n",
              "      <td>Bachmann, Michelle</td>\n",
              "      <td>WARDENBURG, HAROLD</td>\n",
              "      <td>HOT SPRINGS NATION</td>\n",
              "      <td>AR</td>\n",
              "      <td>719016467</td>\n",
              "      <td>NONE</td>\n",
              "      <td>RETIRED</td>\n",
              "      <td>300.0</td>\n",
              "      <td>20-JUN-11</td>\n",
              "      <td>NaN</td>\n",
              "      <td>NaN</td>\n",
              "      <td>NaN</td>\n",
              "      <td>SA17A</td>\n",
              "      <td>736166</td>\n",
              "      <td>Republican</td>\n",
              "    </tr>\n",
              "  </tbody>\n",
              "</table>\n",
              "</div>"
            ],
            "text/plain": [
              "     cmte_id    cand_id             cand_nm  ... form_tp file_num       party\n",
              "0  C00410118  P20002978  Bachmann, Michelle  ...   SA17A   736166  Republican\n",
              "1  C00410118  P20002978  Bachmann, Michelle  ...   SA17A   736166  Republican\n",
              "2  C00410118  P20002978  Bachmann, Michelle  ...   SA17A   749073  Republican\n",
              "3  C00410118  P20002978  Bachmann, Michelle  ...   SA17A   749073  Republican\n",
              "4  C00410118  P20002978  Bachmann, Michelle  ...   SA17A   736166  Republican\n",
              "\n",
              "[5 rows x 17 columns]"
            ]
          },
          "metadata": {
            "tags": []
          },
          "execution_count": 35
        }
      ]
    },
    {
      "cell_type": "code",
      "metadata": {
        "id": "QA8QkYT1Sw1l",
        "outputId": "4bee83fc-9081-49d8-c02d-647148682ff8",
        "colab": {
          "base_uri": "https://localhost:8080/"
        }
      },
      "source": [
        "fec.iloc[123456]"
      ],
      "execution_count": 9,
      "outputs": [
        {
          "output_type": "execute_result",
          "data": {
            "text/plain": [
              "cmte_id             C00431445\n",
              "cand_id             P80003338\n",
              "cand_nm         Obama, Barack\n",
              "contbr_nm         ELLMAN, IRA\n",
              "contbr_city             TEMPE\n",
              "                    ...      \n",
              "receipt_desc              NaN\n",
              "memo_cd                   NaN\n",
              "memo_text                 NaN\n",
              "form_tp                 SA17A\n",
              "file_num               772372\n",
              "Name: 123456, Length: 16, dtype: object"
            ]
          },
          "metadata": {
            "tags": []
          },
          "execution_count": 9
        }
      ]
    },
    {
      "cell_type": "code",
      "metadata": {
        "id": "q-E45Sb4S2V-",
        "outputId": "6f75a9ce-b5fe-4452-9aef-706e55fcfc1a",
        "colab": {
          "base_uri": "https://localhost:8080/"
        }
      },
      "source": [
        "unique_cands = fec.cand_nm.unique()\n",
        "unique_cands"
      ],
      "execution_count": 10,
      "outputs": [
        {
          "output_type": "execute_result",
          "data": {
            "text/plain": [
              "array(['Bachmann, Michelle', 'Romney, Mitt', 'Obama, Barack',\n",
              "       \"Roemer, Charles E. 'Buddy' III\", 'Pawlenty, Timothy',\n",
              "       'Johnson, Gary Earl', 'Paul, Ron', 'Santorum, Rick',\n",
              "       'Cain, Herman', 'Gingrich, Newt', 'McCotter, Thaddeus G',\n",
              "       'Huntsman, Jon', 'Perry, Rick'], dtype=object)"
            ]
          },
          "metadata": {
            "tags": []
          },
          "execution_count": 10
        }
      ]
    },
    {
      "cell_type": "code",
      "metadata": {
        "id": "2jlJUWUHS7ed",
        "outputId": "de9d6db4-4fc0-4d02-ebd0-172862ca2563",
        "colab": {
          "base_uri": "https://localhost:8080/",
          "height": 35
        }
      },
      "source": [
        "unique_cands[2]"
      ],
      "execution_count": 11,
      "outputs": [
        {
          "output_type": "execute_result",
          "data": {
            "application/vnd.google.colaboratory.intrinsic+json": {
              "type": "string"
            },
            "text/plain": [
              "'Obama, Barack'"
            ]
          },
          "metadata": {
            "tags": []
          },
          "execution_count": 11
        }
      ]
    },
    {
      "cell_type": "code",
      "metadata": {
        "id": "frhsD6c9S_B9"
      },
      "source": [
        "parties = {'Bachmann, Michelle': 'Republican',\n",
        "           'Cain, Herman': 'Republican', \n",
        "           'Gingrich, Newt': 'Republican', \n",
        "           'Huntsman, Jon': 'Republican', \n",
        "           'Johnson, Gary Earl': 'Republican', \n",
        "           'McCotter, Thaddeus G': 'Republican', \n",
        "           'Obama, Barack': 'Democrat', \n",
        "           'Paul, Ron': 'Republican', \n",
        "           'Pawlenty, Timothy': 'Republican', \n",
        "           'Perry, Rick': 'Republican', \n",
        "           \"Roemer, Charles E. 'Buddy' III\": 'Republican', \n",
        "           'Romney, Mitt': 'Republican', \n",
        "           'Santorum, Rick': 'Republican'}"
      ],
      "execution_count": 13,
      "outputs": []
    },
    {
      "cell_type": "code",
      "metadata": {
        "id": "dk8Hsuk5TCnV",
        "outputId": "90c974ca-7f76-4563-f4f0-79593d2f03bc",
        "colab": {
          "base_uri": "https://localhost:8080/"
        }
      },
      "source": [
        "fec.cand_nm[123456:123461]"
      ],
      "execution_count": 14,
      "outputs": [
        {
          "output_type": "execute_result",
          "data": {
            "text/plain": [
              "123456    Obama, Barack\n",
              "123457    Obama, Barack\n",
              "123458    Obama, Barack\n",
              "123459    Obama, Barack\n",
              "123460    Obama, Barack\n",
              "Name: cand_nm, dtype: object"
            ]
          },
          "metadata": {
            "tags": []
          },
          "execution_count": 14
        }
      ]
    },
    {
      "cell_type": "code",
      "metadata": {
        "id": "6Ijnpg3kTEsN",
        "outputId": "9073dded-14c2-451f-c65a-d484dcde3f01",
        "colab": {
          "base_uri": "https://localhost:8080/"
        }
      },
      "source": [
        "fec.cand_nm[123456:123461].map(parties)"
      ],
      "execution_count": 15,
      "outputs": [
        {
          "output_type": "execute_result",
          "data": {
            "text/plain": [
              "123456    Democrat\n",
              "123457    Democrat\n",
              "123458    Democrat\n",
              "123459    Democrat\n",
              "123460    Democrat\n",
              "Name: cand_nm, dtype: object"
            ]
          },
          "metadata": {
            "tags": []
          },
          "execution_count": 15
        }
      ]
    },
    {
      "cell_type": "code",
      "metadata": {
        "id": "2xG6G6w6TF-N"
      },
      "source": [
        "# Add it as a column\n",
        "fec['party'] = fec.cand_nm.map(parties)"
      ],
      "execution_count": 17,
      "outputs": []
    },
    {
      "cell_type": "code",
      "metadata": {
        "id": "p_nQdK0WTLZ9",
        "outputId": "a5c71dd1-6c40-41bf-932c-491b206a16fc",
        "colab": {
          "base_uri": "https://localhost:8080/"
        }
      },
      "source": [
        "fec['party'].value_counts()"
      ],
      "execution_count": 18,
      "outputs": [
        {
          "output_type": "execute_result",
          "data": {
            "text/plain": [
              "Democrat      593746\n",
              "Republican    407985\n",
              "Name: party, dtype: int64"
            ]
          },
          "metadata": {
            "tags": []
          },
          "execution_count": 18
        }
      ]
    },
    {
      "cell_type": "code",
      "metadata": {
        "id": "YAeE5SqCTN8l",
        "outputId": "4807ae16-3ba3-4b83-969d-5e3a57258653",
        "colab": {
          "base_uri": "https://localhost:8080/"
        }
      },
      "source": [
        "(fec.contb_receipt_amt > 0).value_counts()"
      ],
      "execution_count": 19,
      "outputs": [
        {
          "output_type": "execute_result",
          "data": {
            "text/plain": [
              "True     991475\n",
              "False     10256\n",
              "Name: contb_receipt_amt, dtype: int64"
            ]
          },
          "metadata": {
            "tags": []
          },
          "execution_count": 19
        }
      ]
    },
    {
      "cell_type": "code",
      "metadata": {
        "id": "Xf2vUSaCTQXc"
      },
      "source": [
        "fec = fec[fec.contb_receipt_amt > 0]"
      ],
      "execution_count": 20,
      "outputs": []
    },
    {
      "cell_type": "code",
      "metadata": {
        "id": "kFBgXPo8TTc9"
      },
      "source": [
        "fec_mrbo = fec[fec.cand_nm.isin(['Obama, Barack', 'Romney, Mitt'])]"
      ],
      "execution_count": 21,
      "outputs": []
    },
    {
      "cell_type": "markdown",
      "metadata": {
        "id": "Yfo4ciieTYip"
      },
      "source": [
        "### 1 Donation Statistics by Occupation and Employer\n"
      ]
    },
    {
      "cell_type": "code",
      "metadata": {
        "id": "fGTV7zaJTdy9",
        "outputId": "1b7465cd-2762-441e-b2f6-140a72ac7ba5",
        "colab": {
          "base_uri": "https://localhost:8080/"
        }
      },
      "source": [
        "fec.contbr_occupation.value_counts()[:10]"
      ],
      "execution_count": 22,
      "outputs": [
        {
          "output_type": "execute_result",
          "data": {
            "text/plain": [
              "RETIRED                                   233990\n",
              "INFORMATION REQUESTED                      35107\n",
              "ATTORNEY                                   34286\n",
              "HOMEMAKER                                  29931\n",
              "PHYSICIAN                                  23432\n",
              "INFORMATION REQUESTED PER BEST EFFORTS     21138\n",
              "ENGINEER                                   14334\n",
              "TEACHER                                    13990\n",
              "CONSULTANT                                 13273\n",
              "PROFESSOR                                  12555\n",
              "Name: contbr_occupation, dtype: int64"
            ]
          },
          "metadata": {
            "tags": []
          },
          "execution_count": 22
        }
      ]
    },
    {
      "cell_type": "code",
      "metadata": {
        "id": "m8o7P1gSTmYk"
      },
      "source": [
        "occ_mapping = { \n",
        "    'INFORMATION REQUESTED PER BEST EFFORTS' : 'NOT PROVIDED', \n",
        "    'INFORMATION REQUESTED' : 'NOT PROVIDED', \n",
        "    'INFORMATION REQUESTED (BEST EFFORTS)' : 'NOT PROVIDED', \n",
        "    'C.E.O.': 'CEO' \n",
        "}\n",
        "\n",
        "# If no mapping provided, return x \n",
        "f = lambda x: occ_mapping.get(x, x) \n",
        "fec.contbr_occupation = fec.contbr_occupation.map(f)"
      ],
      "execution_count": 24,
      "outputs": []
    },
    {
      "cell_type": "code",
      "metadata": {
        "id": "T_2n2R0ETv00",
        "outputId": "eb948fb7-84e0-421e-fce2-d3c4281fe0ac",
        "colab": {
          "base_uri": "https://localhost:8080/"
        }
      },
      "source": [
        "fec.contbr_occupation"
      ],
      "execution_count": 25,
      "outputs": [
        {
          "output_type": "execute_result",
          "data": {
            "text/plain": [
              "0                               RETIRED\n",
              "1                               RETIRED\n",
              "2                          NOT PROVIDED\n",
              "3                               RETIRED\n",
              "4                               RETIRED\n",
              "                       ...             \n",
              "1001726                    NOT PROVIDED\n",
              "1001727                  BUSINESS OWNER\n",
              "1001728                    NOT PROVIDED\n",
              "1001729    LONGWALL MAINTENANCE FOREMAN\n",
              "1001730                    NOT PROVIDED\n",
              "Name: contbr_occupation, Length: 991475, dtype: object"
            ]
          },
          "metadata": {
            "tags": []
          },
          "execution_count": 25
        }
      ]
    },
    {
      "cell_type": "code",
      "metadata": {
        "id": "s6NzmX7PTy-l"
      },
      "source": [
        "emp_mapping = { \n",
        "    'INFORMATION REQUESTED PER BEST EFFORTS' : 'NOT PROVIDED', \n",
        "    'INFORMATION REQUESTED' : 'NOT PROVIDED', \n",
        "    'SELF' : 'SELF-EMPLOYED', \n",
        "    'SELF EMPLOYED' : 'SELF-EMPLOYED', \n",
        "}\n",
        "\n",
        "# If no mapping provided, return x \n",
        "f = lambda x: emp_mapping.get(x, x) \n",
        "fec.contbr_employer = fec.contbr_employer.map(f)"
      ],
      "execution_count": 26,
      "outputs": []
    },
    {
      "cell_type": "code",
      "metadata": {
        "id": "gxvbna6FT1Al",
        "outputId": "5d33f9a5-48b1-4277-b4f9-e329ee80f481",
        "colab": {
          "base_uri": "https://localhost:8080/"
        }
      },
      "source": [
        "fec.contbr_employer"
      ],
      "execution_count": 27,
      "outputs": [
        {
          "output_type": "execute_result",
          "data": {
            "text/plain": [
              "0                               RETIRED\n",
              "1                               RETIRED\n",
              "2                          NOT PROVIDED\n",
              "3                                  NONE\n",
              "4                                  NONE\n",
              "                       ...             \n",
              "1001726                    NOT PROVIDED\n",
              "1001727    DUFFY EQUIPMENT COMPANY INC.\n",
              "1001728                    NOT PROVIDED\n",
              "1001729                        T.A.C.C.\n",
              "1001730                    NOT PROVIDED\n",
              "Name: contbr_employer, Length: 991475, dtype: object"
            ]
          },
          "metadata": {
            "tags": []
          },
          "execution_count": 27
        }
      ]
    },
    {
      "cell_type": "code",
      "metadata": {
        "id": "wakxVoLwT3kV"
      },
      "source": [
        "by_occupation = fec.pivot_table('contb_receipt_amt', \n",
        "                                index='contbr_occupation',\n",
        "                                columns='party',\n",
        "                                aggfunc='sum')"
      ],
      "execution_count": 28,
      "outputs": []
    },
    {
      "cell_type": "code",
      "metadata": {
        "id": "Ug0psWLST599",
        "outputId": "52ac9a1c-953d-489e-8792-0eb4c1ad7c16",
        "colab": {
          "base_uri": "https://localhost:8080/",
          "height": 450
        }
      },
      "source": [
        "over_2mm = by_occupation[by_occupation.sum(1) > 2000000]\n",
        "over_2mm"
      ],
      "execution_count": 29,
      "outputs": [
        {
          "output_type": "execute_result",
          "data": {
            "text/html": [
              "<div>\n",
              "<style scoped>\n",
              "    .dataframe tbody tr th:only-of-type {\n",
              "        vertical-align: middle;\n",
              "    }\n",
              "\n",
              "    .dataframe tbody tr th {\n",
              "        vertical-align: top;\n",
              "    }\n",
              "\n",
              "    .dataframe thead th {\n",
              "        text-align: right;\n",
              "    }\n",
              "</style>\n",
              "<table border=\"1\" class=\"dataframe\">\n",
              "  <thead>\n",
              "    <tr style=\"text-align: right;\">\n",
              "      <th>party</th>\n",
              "      <th>Democrat</th>\n",
              "      <th>Republican</th>\n",
              "    </tr>\n",
              "    <tr>\n",
              "      <th>contbr_occupation</th>\n",
              "      <th></th>\n",
              "      <th></th>\n",
              "    </tr>\n",
              "  </thead>\n",
              "  <tbody>\n",
              "    <tr>\n",
              "      <th>ATTORNEY</th>\n",
              "      <td>11141982.97</td>\n",
              "      <td>7.477194e+06</td>\n",
              "    </tr>\n",
              "    <tr>\n",
              "      <th>CEO</th>\n",
              "      <td>2074974.79</td>\n",
              "      <td>4.211041e+06</td>\n",
              "    </tr>\n",
              "    <tr>\n",
              "      <th>CONSULTANT</th>\n",
              "      <td>2459912.71</td>\n",
              "      <td>2.544725e+06</td>\n",
              "    </tr>\n",
              "    <tr>\n",
              "      <th>ENGINEER</th>\n",
              "      <td>951525.55</td>\n",
              "      <td>1.818374e+06</td>\n",
              "    </tr>\n",
              "    <tr>\n",
              "      <th>EXECUTIVE</th>\n",
              "      <td>1355161.05</td>\n",
              "      <td>4.138850e+06</td>\n",
              "    </tr>\n",
              "    <tr>\n",
              "      <th>...</th>\n",
              "      <td>...</td>\n",
              "      <td>...</td>\n",
              "    </tr>\n",
              "    <tr>\n",
              "      <th>PRESIDENT</th>\n",
              "      <td>1878509.95</td>\n",
              "      <td>4.720924e+06</td>\n",
              "    </tr>\n",
              "    <tr>\n",
              "      <th>PROFESSOR</th>\n",
              "      <td>2165071.08</td>\n",
              "      <td>2.967027e+05</td>\n",
              "    </tr>\n",
              "    <tr>\n",
              "      <th>REAL ESTATE</th>\n",
              "      <td>528902.09</td>\n",
              "      <td>1.625902e+06</td>\n",
              "    </tr>\n",
              "    <tr>\n",
              "      <th>RETIRED</th>\n",
              "      <td>25305116.38</td>\n",
              "      <td>2.356124e+07</td>\n",
              "    </tr>\n",
              "    <tr>\n",
              "      <th>SELF-EMPLOYED</th>\n",
              "      <td>672393.40</td>\n",
              "      <td>1.640253e+06</td>\n",
              "    </tr>\n",
              "  </tbody>\n",
              "</table>\n",
              "<p>17 rows × 2 columns</p>\n",
              "</div>"
            ],
            "text/plain": [
              "party                 Democrat    Republican\n",
              "contbr_occupation                           \n",
              "ATTORNEY           11141982.97  7.477194e+06\n",
              "CEO                 2074974.79  4.211041e+06\n",
              "CONSULTANT          2459912.71  2.544725e+06\n",
              "ENGINEER             951525.55  1.818374e+06\n",
              "EXECUTIVE           1355161.05  4.138850e+06\n",
              "...                        ...           ...\n",
              "PRESIDENT           1878509.95  4.720924e+06\n",
              "PROFESSOR           2165071.08  2.967027e+05\n",
              "REAL ESTATE          528902.09  1.625902e+06\n",
              "RETIRED            25305116.38  2.356124e+07\n",
              "SELF-EMPLOYED        672393.40  1.640253e+06\n",
              "\n",
              "[17 rows x 2 columns]"
            ]
          },
          "metadata": {
            "tags": []
          },
          "execution_count": 29
        }
      ]
    },
    {
      "cell_type": "code",
      "metadata": {
        "id": "TmoRepvXT7IF"
      },
      "source": [
        "import seaborn as sns\n",
        "%matplotlib inline"
      ],
      "execution_count": 30,
      "outputs": []
    },
    {
      "cell_type": "code",
      "metadata": {
        "id": "Zh34yUKnUA3M",
        "outputId": "d796914a-6c6c-43ca-bba4-8ec06f5074b9",
        "colab": {
          "base_uri": "https://localhost:8080/",
          "height": 513
        }
      },
      "source": [
        "over_2mm.plot(kind='barh', figsize=(10, 8))"
      ],
      "execution_count": 31,
      "outputs": [
        {
          "output_type": "execute_result",
          "data": {
            "text/plain": [
              "<matplotlib.axes._subplots.AxesSubplot at 0x7f050447bcc0>"
            ]
          },
          "metadata": {
            "tags": []
          },
          "execution_count": 31
        },
        {
          "output_type": "display_data",
          "data": {
            "image/png": "[encoded data removed]",
            "text/plain": [
              "<Figure size 720x576 with 1 Axes>"
            ]
          },
          "metadata": {
            "tags": [],
            "needs_background": "light"
          }
        }
      ]
    },
    {
      "cell_type": "code",
      "metadata": {
        "id": "1rrZ07jzUEW0"
      },
      "source": [
        "def get_top_amounts(group, key, n=5):\n",
        "    totals = group.groupby(key)['contb_receipt_amt'].sum()\n",
        "    return totals.nlargest(n)"
      ],
      "execution_count": 32,
      "outputs": []
    },
    {
      "cell_type": "code",
      "metadata": {
        "id": "-XbFh2_CUGUs",
        "outputId": "ad30a31e-be1f-4e12-c741-15e2c4d04e9d",
        "colab": {
          "base_uri": "https://localhost:8080/"
        }
      },
      "source": [
        "grouped = fec_mrbo.groupby('cand_nm')\n",
        "grouped"
      ],
      "execution_count": 33,
      "outputs": [
        {
          "output_type": "execute_result",
          "data": {
            "text/plain": [
              "<pandas.core.groupby.generic.DataFrameGroupBy object at 0x7f050434fe10>"
            ]
          },
          "metadata": {
            "tags": []
          },
          "execution_count": 33
        }
      ]
    },
    {
      "cell_type": "code",
      "metadata": {
        "id": "WgTrd4ZMUJqt",
        "outputId": "e2a08ab1-44db-4dd0-ae31-453c3c97b3e4",
        "colab": {
          "base_uri": "https://localhost:8080/"
        }
      },
      "source": [
        "grouped.apply(get_top_amounts, 'contbr_occupation', n=7)"
      ],
      "execution_count": 34,
      "outputs": [
        {
          "output_type": "execute_result",
          "data": {
            "text/plain": [
              "cand_nm        contbr_occupation    \n",
              "Obama, Barack  RETIRED                  25305116.38\n",
              "               ATTORNEY                 11141982.97\n",
              "               INFORMATION REQUESTED     4866973.96\n",
              "               HOMEMAKER                 4248875.80\n",
              "               PHYSICIAN                 3735124.94\n",
              "                                           ...     \n",
              "Romney, Mitt   HOMEMAKER                 8147446.22\n",
              "               ATTORNEY                  5364718.82\n",
              "               PRESIDENT                 2491244.89\n",
              "               EXECUTIVE                 2300947.03\n",
              "               C.E.O.                    1968386.11\n",
              "Name: contb_receipt_amt, Length: 14, dtype: float64"
            ]
          },
          "metadata": {
            "tags": []
          },
          "execution_count": 34
        }
      ]
    }
  ]
}