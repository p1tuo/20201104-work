{
  "nbformat": 4,
  "nbformat_minor": 0,
  "metadata": {
    "colab": {
      "name": "Untitled7.ipynb",
      "provenance": [],
      "authorship_tag": "ABX9TyOErHijbjRoyQ5ZCpPdDMPT",
      "include_colab_link": true
    },
    "kernelspec": {
      "name": "python3",
      "display_name": "Python 3"
    }
  },
  "cells": [
    {
      "cell_type": "markdown",
      "metadata": {
        "id": "view-in-github",
        "colab_type": "text"
      },
      "source": [
        "<a href=\"https://colab.research.google.com/github/p1tuo/20201104-work/blob/main/Untitled7.ipynb\" target=\"_parent\"><img src=\"https://colab.research.google.com/assets/colab-badge.svg\" alt=\"Open In Colab\"/></a>"
      ]
    },
    {
      "cell_type": "code",
      "metadata": {
        "id": "xoxvCdHySdik",
        "outputId": "4fe685f7-eaa0-48db-bce0-4f0869c54c4b",
        "colab": {
          "base_uri": "https://localhost:8080/"
        }
      },
      "source": [
        "!wget https://raw.githubusercontent.com/wesm/pydata-book/2nd-edition/datasets/fec/P00000001-ALL.csv"
      ],
      "execution_count": 1,
      "outputs": [
        {
          "output_type": "stream",
          "text": [
            "--2020-11-10 17:16:51--  https://raw.githubusercontent.com/wesm/pydata-book/2nd-edition/datasets/fec/P00000001-ALL.csv\n",
            "Resolving raw.githubusercontent.com (raw.githubusercontent.com)... 151.101.0.133, 151.101.64.133, 151.101.128.133, ...\n",
            "Connecting to raw.githubusercontent.com (raw.githubusercontent.com)|151.101.0.133|:443... connected.\n",
            "HTTP request sent, awaiting response... 200 OK\n",
            "Length: 157871393 (151M) [text/plain]\n",
            "Saving to: ‘P00000001-ALL.csv’\n",
            "\n",
            "P00000001-ALL.csv   100%[===================>] 150.56M   110MB/s    in 1.4s    \n",
            "\n",
            "2020-11-10 17:16:53 (110 MB/s) - ‘P00000001-ALL.csv’ saved [157871393/157871393]\n",
            "\n"
          ],
          "name": "stdout"
        }
      ]
    },
    {
      "cell_type": "code",
      "metadata": {
        "id": "2PdEM09BSh4u"
      },
      "source": [
        "import numpy as np\n",
        "import pandas as pd"
      ],
      "execution_count": 20,
      "outputs": []
    },
    {
      "cell_type": "code",
      "metadata": {
        "id": "gKMpOxtlSkx1"
      },
      "source": [
        "pd.options.display.max_rows = 10"
      ],
      "execution_count": 21,
      "outputs": []
    },
    {
      "cell_type": "code",
      "metadata": {
        "id": "CV0otj6DSnc1"
      },
      "source": [
        "fec = pd.read_csv('P00000001-ALL.csv', low_memory=False)"
      ],
      "execution_count": 22,
      "outputs": []
    },
    {
      "cell_type": "code",
      "metadata": {
        "id": "3-o2TbtqSvnt",
        "outputId": "60f570f2-6758-4bca-9a55-f72c3a9db60a",
        "colab": {
          "base_uri": "https://localhost:8080/"
        }
      },
      "source": [
        "fec.info()"
      ],
      "execution_count": 23,
      "outputs": [
        {
          "output_type": "stream",
          "text": [
            "<class 'pandas.core.frame.DataFrame'>\n",
            "RangeIndex: 1001731 entries, 0 to 1001730\n",
            "Data columns (total 16 columns):\n",
            " #   Column             Non-Null Count    Dtype  \n",
            "---  ------             --------------    -----  \n",
            " 0   cmte_id            1001731 non-null  object \n",
            " 1   cand_id            1001731 non-null  object \n",
            " 2   cand_nm            1001731 non-null  object \n",
            " 3   contbr_nm          1001731 non-null  object \n",
            " 4   contbr_city        1001712 non-null  object \n",
            " 5   contbr_st          1001727 non-null  object \n",
            " 6   contbr_zip         1001620 non-null  object \n",
            " 7   contbr_employer    988002 non-null   object \n",
            " 8   contbr_occupation  993301 non-null   object \n",
            " 9   contb_receipt_amt  1001731 non-null  float64\n",
            " 10  contb_receipt_dt   1001731 non-null  object \n",
            " 11  receipt_desc       14166 non-null    object \n",
            " 12  memo_cd            92482 non-null    object \n",
            " 13  memo_text          97770 non-null    object \n",
            " 14  form_tp            1001731 non-null  object \n",
            " 15  file_num           1001731 non-null  int64  \n",
            "dtypes: float64(1), int64(1), object(14)\n",
            "memory usage: 122.3+ MB\n"
          ],
          "name": "stdout"
        }
      ]
    },
    {
      "cell_type": "code",
      "metadata": {
        "id": "rAfNWcqoUlVt",
        "outputId": "bc051f9d-5f02-407f-f0be-7a7195df86d6",
        "colab": {
          "base_uri": "https://localhost:8080/",
          "height": 317
        }
      },
      "source": [
        "fec.head(5)"
      ],
      "execution_count": 24,
      "outputs": [
        {
          "output_type": "execute_result",
          "data": {
            "text/html": [
              "<div>\n",
              "<style scoped>\n",
              "    .dataframe tbody tr th:only-of-type {\n",
              "        vertical-align: middle;\n",
              "    }\n",
              "\n",
              "    .dataframe tbody tr th {\n",
              "        vertical-align: top;\n",
              "    }\n",
              "\n",
              "    .dataframe thead th {\n",
              "        text-align: right;\n",
              "    }\n",
              "</style>\n",
              "<table border=\"1\" class=\"dataframe\">\n",
              "  <thead>\n",
              "    <tr style=\"text-align: right;\">\n",
              "      <th></th>\n",
              "      <th>cmte_id</th>\n",
              "      <th>cand_id</th>\n",
              "      <th>cand_nm</th>\n",
              "      <th>contbr_nm</th>\n",
              "      <th>contbr_city</th>\n",
              "      <th>contbr_st</th>\n",
              "      <th>contbr_zip</th>\n",
              "      <th>contbr_employer</th>\n",
              "      <th>contbr_occupation</th>\n",
              "      <th>contb_receipt_amt</th>\n",
              "      <th>contb_receipt_dt</th>\n",
              "      <th>receipt_desc</th>\n",
              "      <th>memo_cd</th>\n",
              "      <th>memo_text</th>\n",
              "      <th>form_tp</th>\n",
              "      <th>file_num</th>\n",
              "    </tr>\n",
              "  </thead>\n",
              "  <tbody>\n",
              "    <tr>\n",
              "      <th>0</th>\n",
              "      <td>C00410118</td>\n",
              "      <td>P20002978</td>\n",
              "      <td>Bachmann, Michelle</td>\n",
              "      <td>HARVEY, WILLIAM</td>\n",
              "      <td>MOBILE</td>\n",
              "      <td>AL</td>\n",
              "      <td>366010290</td>\n",
              "      <td>RETIRED</td>\n",
              "      <td>RETIRED</td>\n",
              "      <td>250.0</td>\n",
              "      <td>20-JUN-11</td>\n",
              "      <td>NaN</td>\n",
              "      <td>NaN</td>\n",
              "      <td>NaN</td>\n",
              "      <td>SA17A</td>\n",
              "      <td>736166</td>\n",
              "    </tr>\n",
              "    <tr>\n",
              "      <th>1</th>\n",
              "      <td>C00410118</td>\n",
              "      <td>P20002978</td>\n",
              "      <td>Bachmann, Michelle</td>\n",
              "      <td>HARVEY, WILLIAM</td>\n",
              "      <td>MOBILE</td>\n",
              "      <td>AL</td>\n",
              "      <td>366010290</td>\n",
              "      <td>RETIRED</td>\n",
              "      <td>RETIRED</td>\n",
              "      <td>50.0</td>\n",
              "      <td>23-JUN-11</td>\n",
              "      <td>NaN</td>\n",
              "      <td>NaN</td>\n",
              "      <td>NaN</td>\n",
              "      <td>SA17A</td>\n",
              "      <td>736166</td>\n",
              "    </tr>\n",
              "    <tr>\n",
              "      <th>2</th>\n",
              "      <td>C00410118</td>\n",
              "      <td>P20002978</td>\n",
              "      <td>Bachmann, Michelle</td>\n",
              "      <td>SMITH, LANIER</td>\n",
              "      <td>LANETT</td>\n",
              "      <td>AL</td>\n",
              "      <td>368633403</td>\n",
              "      <td>INFORMATION REQUESTED</td>\n",
              "      <td>INFORMATION REQUESTED</td>\n",
              "      <td>250.0</td>\n",
              "      <td>05-JUL-11</td>\n",
              "      <td>NaN</td>\n",
              "      <td>NaN</td>\n",
              "      <td>NaN</td>\n",
              "      <td>SA17A</td>\n",
              "      <td>749073</td>\n",
              "    </tr>\n",
              "    <tr>\n",
              "      <th>3</th>\n",
              "      <td>C00410118</td>\n",
              "      <td>P20002978</td>\n",
              "      <td>Bachmann, Michelle</td>\n",
              "      <td>BLEVINS, DARONDA</td>\n",
              "      <td>PIGGOTT</td>\n",
              "      <td>AR</td>\n",
              "      <td>724548253</td>\n",
              "      <td>NONE</td>\n",
              "      <td>RETIRED</td>\n",
              "      <td>250.0</td>\n",
              "      <td>01-AUG-11</td>\n",
              "      <td>NaN</td>\n",
              "      <td>NaN</td>\n",
              "      <td>NaN</td>\n",
              "      <td>SA17A</td>\n",
              "      <td>749073</td>\n",
              "    </tr>\n",
              "    <tr>\n",
              "      <th>4</th>\n",
              "      <td>C00410118</td>\n",
              "      <td>P20002978</td>\n",
              "      <td>Bachmann, Michelle</td>\n",
              "      <td>WARDENBURG, HAROLD</td>\n",
              "      <td>HOT SPRINGS NATION</td>\n",
              "      <td>AR</td>\n",
              "      <td>719016467</td>\n",
              "      <td>NONE</td>\n",
              "      <td>RETIRED</td>\n",
              "      <td>300.0</td>\n",
              "      <td>20-JUN-11</td>\n",
              "      <td>NaN</td>\n",
              "      <td>NaN</td>\n",
              "      <td>NaN</td>\n",
              "      <td>SA17A</td>\n",
              "      <td>736166</td>\n",
              "    </tr>\n",
              "  </tbody>\n",
              "</table>\n",
              "</div>"
            ],
            "text/plain": [
              "     cmte_id    cand_id             cand_nm  ... memo_text form_tp file_num\n",
              "0  C00410118  P20002978  Bachmann, Michelle  ...       NaN   SA17A   736166\n",
              "1  C00410118  P20002978  Bachmann, Michelle  ...       NaN   SA17A   736166\n",
              "2  C00410118  P20002978  Bachmann, Michelle  ...       NaN   SA17A   749073\n",
              "3  C00410118  P20002978  Bachmann, Michelle  ...       NaN   SA17A   749073\n",
              "4  C00410118  P20002978  Bachmann, Michelle  ...       NaN   SA17A   736166\n",
              "\n",
              "[5 rows x 16 columns]"
            ]
          },
          "metadata": {
            "tags": []
          },
          "execution_count": 24
        }
      ]
    },
    {
      "cell_type": "code",
      "metadata": {
        "id": "QA8QkYT1Sw1l",
        "outputId": "256f8984-e6c5-4cef-deac-2f6939172de7",
        "colab": {
          "base_uri": "https://localhost:8080/"
        }
      },
      "source": [
        "fec.iloc[123456]"
      ],
      "execution_count": 25,
      "outputs": [
        {
          "output_type": "execute_result",
          "data": {
            "text/plain": [
              "cmte_id             C00431445\n",
              "cand_id             P80003338\n",
              "cand_nm         Obama, Barack\n",
              "contbr_nm         ELLMAN, IRA\n",
              "contbr_city             TEMPE\n",
              "                    ...      \n",
              "receipt_desc              NaN\n",
              "memo_cd                   NaN\n",
              "memo_text                 NaN\n",
              "form_tp                 SA17A\n",
              "file_num               772372\n",
              "Name: 123456, Length: 16, dtype: object"
            ]
          },
          "metadata": {
            "tags": []
          },
          "execution_count": 25
        }
      ]
    },
    {
      "cell_type": "code",
      "metadata": {
        "id": "q-E45Sb4S2V-",
        "outputId": "1b662279-7bce-48fc-f24a-1d125495bfaa",
        "colab": {
          "base_uri": "https://localhost:8080/"
        }
      },
      "source": [
        "unique_cands = fec.cand_nm.unique()\n",
        "unique_cands"
      ],
      "execution_count": 26,
      "outputs": [
        {
          "output_type": "execute_result",
          "data": {
            "text/plain": [
              "array(['Bachmann, Michelle', 'Romney, Mitt', 'Obama, Barack',\n",
              "       \"Roemer, Charles E. 'Buddy' III\", 'Pawlenty, Timothy',\n",
              "       'Johnson, Gary Earl', 'Paul, Ron', 'Santorum, Rick',\n",
              "       'Cain, Herman', 'Gingrich, Newt', 'McCotter, Thaddeus G',\n",
              "       'Huntsman, Jon', 'Perry, Rick'], dtype=object)"
            ]
          },
          "metadata": {
            "tags": []
          },
          "execution_count": 26
        }
      ]
    },
    {
      "cell_type": "code",
      "metadata": {
        "id": "2jlJUWUHS7ed",
        "outputId": "fab915bf-04fa-4afb-92d9-5d59ec6849fd",
        "colab": {
          "base_uri": "https://localhost:8080/",
          "height": 35
        }
      },
      "source": [
        "unique_cands[2]"
      ],
      "execution_count": 27,
      "outputs": [
        {
          "output_type": "execute_result",
          "data": {
            "application/vnd.google.colaboratory.intrinsic+json": {
              "type": "string"
            },
            "text/plain": [
              "'Obama, Barack'"
            ]
          },
          "metadata": {
            "tags": []
          },
          "execution_count": 27
        }
      ]
    },
    {
      "cell_type": "code",
      "metadata": {
        "id": "frhsD6c9S_B9"
      },
      "source": [
        "parties = {'Bachmann, Michelle': 'Republican',\n",
        "           'Cain, Herman': 'Republican', \n",
        "           'Gingrich, Newt': 'Republican', \n",
        "           'Huntsman, Jon': 'Republican', \n",
        "           'Johnson, Gary Earl': 'Republican', \n",
        "           'McCotter, Thaddeus G': 'Republican', \n",
        "           'Obama, Barack': 'Democrat', \n",
        "           'Paul, Ron': 'Republican', \n",
        "           'Pawlenty, Timothy': 'Republican', \n",
        "           'Perry, Rick': 'Republican', \n",
        "           \"Roemer, Charles E. 'Buddy' III\": 'Republican', \n",
        "           'Romney, Mitt': 'Republican', \n",
        "           'Santorum, Rick': 'Republican'}"
      ],
      "execution_count": 28,
      "outputs": []
    },
    {
      "cell_type": "code",
      "metadata": {
        "id": "dk8Hsuk5TCnV",
        "outputId": "116c7650-9475-4e08-a73c-934d2bef9d51",
        "colab": {
          "base_uri": "https://localhost:8080/"
        }
      },
      "source": [
        "fec.cand_nm[123456:123461]"
      ],
      "execution_count": 29,
      "outputs": [
        {
          "output_type": "execute_result",
          "data": {
            "text/plain": [
              "123456    Obama, Barack\n",
              "123457    Obama, Barack\n",
              "123458    Obama, Barack\n",
              "123459    Obama, Barack\n",
              "123460    Obama, Barack\n",
              "Name: cand_nm, dtype: object"
            ]
          },
          "metadata": {
            "tags": []
          },
          "execution_count": 29
        }
      ]
    },
    {
      "cell_type": "code",
      "metadata": {
        "id": "6Ijnpg3kTEsN",
        "outputId": "064f79b8-0512-41d9-916d-ac83f9b337ed",
        "colab": {
          "base_uri": "https://localhost:8080/"
        }
      },
      "source": [
        "fec.cand_nm[123456:123461].map(parties)"
      ],
      "execution_count": 30,
      "outputs": [
        {
          "output_type": "execute_result",
          "data": {
            "text/plain": [
              "123456    Democrat\n",
              "123457    Democrat\n",
              "123458    Democrat\n",
              "123459    Democrat\n",
              "123460    Democrat\n",
              "Name: cand_nm, dtype: object"
            ]
          },
          "metadata": {
            "tags": []
          },
          "execution_count": 30
        }
      ]
    },
    {
      "cell_type": "code",
      "metadata": {
        "id": "2xG6G6w6TF-N"
      },
      "source": [
        "# Add it as a column\n",
        "fec['party'] = fec.cand_nm.map(parties)"
      ],
      "execution_count": 31,
      "outputs": []
    },
    {
      "cell_type": "code",
      "metadata": {
        "id": "p_nQdK0WTLZ9",
        "outputId": "4365b5f5-a91d-49f7-fcca-0adf8a093d1e",
        "colab": {
          "base_uri": "https://localhost:8080/"
        }
      },
      "source": [
        "fec['party'].value_counts()"
      ],
      "execution_count": 32,
      "outputs": [
        {
          "output_type": "execute_result",
          "data": {
            "text/plain": [
              "Democrat      593746\n",
              "Republican    407985\n",
              "Name: party, dtype: int64"
            ]
          },
          "metadata": {
            "tags": []
          },
          "execution_count": 32
        }
      ]
    },
    {
      "cell_type": "code",
      "metadata": {
        "id": "YAeE5SqCTN8l",
        "outputId": "ca3b3460-f492-437a-eed6-e5c936f43484",
        "colab": {
          "base_uri": "https://localhost:8080/"
        }
      },
      "source": [
        "(fec.contb_receipt_amt > 0).value_counts()"
      ],
      "execution_count": 33,
      "outputs": [
        {
          "output_type": "execute_result",
          "data": {
            "text/plain": [
              "True     991475\n",
              "False     10256\n",
              "Name: contb_receipt_amt, dtype: int64"
            ]
          },
          "metadata": {
            "tags": []
          },
          "execution_count": 33
        }
      ]
    },
    {
      "cell_type": "code",
      "metadata": {
        "id": "Xf2vUSaCTQXc"
      },
      "source": [
        "fec = fec[fec.contb_receipt_amt > 0]"
      ],
      "execution_count": 34,
      "outputs": []
    },
    {
      "cell_type": "code",
      "metadata": {
        "id": "kFBgXPo8TTc9"
      },
      "source": [
        "fec_mrbo = fec[fec.cand_nm.isin(['Obama, Barack', 'Romney, Mitt'])]"
      ],
      "execution_count": 35,
      "outputs": []
    },
    {
      "cell_type": "markdown",
      "metadata": {
        "id": "Yfo4ciieTYip"
      },
      "source": [
        "### 1 Donation Statistics by Occupation and Employer\n"
      ]
    },
    {
      "cell_type": "code",
      "metadata": {
        "id": "fGTV7zaJTdy9",
        "outputId": "1dc50e49-108b-4947-9a9f-b551cf3a44ff",
        "colab": {
          "base_uri": "https://localhost:8080/"
        }
      },
      "source": [
        "fec.contbr_occupation.value_counts()[:10]"
      ],
      "execution_count": 36,
      "outputs": [
        {
          "output_type": "execute_result",
          "data": {
            "text/plain": [
              "RETIRED                                   233990\n",
              "INFORMATION REQUESTED                      35107\n",
              "ATTORNEY                                   34286\n",
              "HOMEMAKER                                  29931\n",
              "PHYSICIAN                                  23432\n",
              "INFORMATION REQUESTED PER BEST EFFORTS     21138\n",
              "ENGINEER                                   14334\n",
              "TEACHER                                    13990\n",
              "CONSULTANT                                 13273\n",
              "PROFESSOR                                  12555\n",
              "Name: contbr_occupation, dtype: int64"
            ]
          },
          "metadata": {
            "tags": []
          },
          "execution_count": 36
        }
      ]
    },
    {
      "cell_type": "code",
      "metadata": {
        "id": "m8o7P1gSTmYk"
      },
      "source": [
        "occ_mapping = { \n",
        "    'INFORMATION REQUESTED PER BEST EFFORTS' : 'NOT PROVIDED', \n",
        "    'INFORMATION REQUESTED' : 'NOT PROVIDED', \n",
        "    'INFORMATION REQUESTED (BEST EFFORTS)' : 'NOT PROVIDED', \n",
        "    'C.E.O.': 'CEO' \n",
        "}\n",
        "\n",
        "# If no mapping provided, return x \n",
        "f = lambda x: occ_mapping.get(x, x) \n",
        "fec.contbr_occupation = fec.contbr_occupation.map(f)"
      ],
      "execution_count": 37,
      "outputs": []
    },
    {
      "cell_type": "code",
      "metadata": {
        "id": "T_2n2R0ETv00",
        "outputId": "f1823c7a-e665-4ea3-9b16-d44f8a3f3568",
        "colab": {
          "base_uri": "https://localhost:8080/"
        }
      },
      "source": [
        "fec.contbr_occupation"
      ],
      "execution_count": 38,
      "outputs": [
        {
          "output_type": "execute_result",
          "data": {
            "text/plain": [
              "0                               RETIRED\n",
              "1                               RETIRED\n",
              "2                          NOT PROVIDED\n",
              "3                               RETIRED\n",
              "4                               RETIRED\n",
              "                       ...             \n",
              "1001726                    NOT PROVIDED\n",
              "1001727                  BUSINESS OWNER\n",
              "1001728                    NOT PROVIDED\n",
              "1001729    LONGWALL MAINTENANCE FOREMAN\n",
              "1001730                    NOT PROVIDED\n",
              "Name: contbr_occupation, Length: 991475, dtype: object"
            ]
          },
          "metadata": {
            "tags": []
          },
          "execution_count": 38
        }
      ]
    },
    {
      "cell_type": "code",
      "metadata": {
        "id": "s6NzmX7PTy-l"
      },
      "source": [
        "emp_mapping = { \n",
        "    'INFORMATION REQUESTED PER BEST EFFORTS' : 'NOT PROVIDED', \n",
        "    'INFORMATION REQUESTED' : 'NOT PROVIDED', \n",
        "    'SELF' : 'SELF-EMPLOYED', \n",
        "    'SELF EMPLOYED' : 'SELF-EMPLOYED', \n",
        "}\n",
        "\n",
        "# If no mapping provided, return x \n",
        "f = lambda x: emp_mapping.get(x, x) \n",
        "fec.contbr_employer = fec.contbr_employer.map(f)"
      ],
      "execution_count": 39,
      "outputs": []
    },
    {
      "cell_type": "code",
      "metadata": {
        "id": "gxvbna6FT1Al",
        "outputId": "a27284b2-617a-40f5-fadb-8c946c664a39",
        "colab": {
          "base_uri": "https://localhost:8080/"
        }
      },
      "source": [
        "fec.contbr_employer"
      ],
      "execution_count": 40,
      "outputs": [
        {
          "output_type": "execute_result",
          "data": {
            "text/plain": [
              "0                               RETIRED\n",
              "1                               RETIRED\n",
              "2                          NOT PROVIDED\n",
              "3                                  NONE\n",
              "4                                  NONE\n",
              "                       ...             \n",
              "1001726                    NOT PROVIDED\n",
              "1001727    DUFFY EQUIPMENT COMPANY INC.\n",
              "1001728                    NOT PROVIDED\n",
              "1001729                        T.A.C.C.\n",
              "1001730                    NOT PROVIDED\n",
              "Name: contbr_employer, Length: 991475, dtype: object"
            ]
          },
          "metadata": {
            "tags": []
          },
          "execution_count": 40
        }
      ]
    },
    {
      "cell_type": "code",
      "metadata": {
        "id": "wakxVoLwT3kV"
      },
      "source": [
        "by_occupation = fec.pivot_table('contb_receipt_amt', \n",
        "                                index='contbr_occupation',\n",
        "                                columns='party',\n",
        "                                aggfunc='sum')"
      ],
      "execution_count": 41,
      "outputs": []
    },
    {
      "cell_type": "code",
      "metadata": {
        "id": "Ug0psWLST599",
        "outputId": "4b9b28b2-5321-4cea-f6cc-3f9816336bbc",
        "colab": {
          "base_uri": "https://localhost:8080/",
          "height": 436
        }
      },
      "source": [
        "over_2mm = by_occupation[by_occupation.sum(1) > 2000000]\n",
        "over_2mm"
      ],
      "execution_count": 42,
      "outputs": [
        {
          "output_type": "execute_result",
          "data": {
            "text/html": [
              "<div>\n",
              "<style scoped>\n",
              "    .dataframe tbody tr th:only-of-type {\n",
              "        vertical-align: middle;\n",
              "    }\n",
              "\n",
              "    .dataframe tbody tr th {\n",
              "        vertical-align: top;\n",
              "    }\n",
              "\n",
              "    .dataframe thead th {\n",
              "        text-align: right;\n",
              "    }\n",
              "</style>\n",
              "<table border=\"1\" class=\"dataframe\">\n",
              "  <thead>\n",
              "    <tr style=\"text-align: right;\">\n",
              "      <th>party</th>\n",
              "      <th>Democrat</th>\n",
              "      <th>Republican</th>\n",
              "    </tr>\n",
              "    <tr>\n",
              "      <th>contbr_occupation</th>\n",
              "      <th></th>\n",
              "      <th></th>\n",
              "    </tr>\n",
              "  </thead>\n",
              "  <tbody>\n",
              "    <tr>\n",
              "      <th>ATTORNEY</th>\n",
              "      <td>11141982.97</td>\n",
              "      <td>7.477194e+06</td>\n",
              "    </tr>\n",
              "    <tr>\n",
              "      <th>CEO</th>\n",
              "      <td>2074974.79</td>\n",
              "      <td>4.211041e+06</td>\n",
              "    </tr>\n",
              "    <tr>\n",
              "      <th>CONSULTANT</th>\n",
              "      <td>2459912.71</td>\n",
              "      <td>2.544725e+06</td>\n",
              "    </tr>\n",
              "    <tr>\n",
              "      <th>ENGINEER</th>\n",
              "      <td>951525.55</td>\n",
              "      <td>1.818374e+06</td>\n",
              "    </tr>\n",
              "    <tr>\n",
              "      <th>EXECUTIVE</th>\n",
              "      <td>1355161.05</td>\n",
              "      <td>4.138850e+06</td>\n",
              "    </tr>\n",
              "    <tr>\n",
              "      <th>...</th>\n",
              "      <td>...</td>\n",
              "      <td>...</td>\n",
              "    </tr>\n",
              "    <tr>\n",
              "      <th>PRESIDENT</th>\n",
              "      <td>1878509.95</td>\n",
              "      <td>4.720924e+06</td>\n",
              "    </tr>\n",
              "    <tr>\n",
              "      <th>PROFESSOR</th>\n",
              "      <td>2165071.08</td>\n",
              "      <td>2.967027e+05</td>\n",
              "    </tr>\n",
              "    <tr>\n",
              "      <th>REAL ESTATE</th>\n",
              "      <td>528902.09</td>\n",
              "      <td>1.625902e+06</td>\n",
              "    </tr>\n",
              "    <tr>\n",
              "      <th>RETIRED</th>\n",
              "      <td>25305116.38</td>\n",
              "      <td>2.356124e+07</td>\n",
              "    </tr>\n",
              "    <tr>\n",
              "      <th>SELF-EMPLOYED</th>\n",
              "      <td>672393.40</td>\n",
              "      <td>1.640253e+06</td>\n",
              "    </tr>\n",
              "  </tbody>\n",
              "</table>\n",
              "<p>17 rows × 2 columns</p>\n",
              "</div>"
            ],
            "text/plain": [
              "party                 Democrat    Republican\n",
              "contbr_occupation                           \n",
              "ATTORNEY           11141982.97  7.477194e+06\n",
              "CEO                 2074974.79  4.211041e+06\n",
              "CONSULTANT          2459912.71  2.544725e+06\n",
              "ENGINEER             951525.55  1.818374e+06\n",
              "EXECUTIVE           1355161.05  4.138850e+06\n",
              "...                        ...           ...\n",
              "PRESIDENT           1878509.95  4.720924e+06\n",
              "PROFESSOR           2165071.08  2.967027e+05\n",
              "REAL ESTATE          528902.09  1.625902e+06\n",
              "RETIRED            25305116.38  2.356124e+07\n",
              "SELF-EMPLOYED        672393.40  1.640253e+06\n",
              "\n",
              "[17 rows x 2 columns]"
            ]
          },
          "metadata": {
            "tags": []
          },
          "execution_count": 42
        }
      ]
    },
    {
      "cell_type": "code",
      "metadata": {
        "id": "TmoRepvXT7IF"
      },
      "source": [
        "import seaborn as sns\n",
        "%matplotlib inline"
      ],
      "execution_count": 43,
      "outputs": []
    },
    {
      "cell_type": "code",
      "metadata": {
        "id": "Zh34yUKnUA3M",
        "outputId": "801c298d-65e7-43d0-d7b2-b7eb8a1bb088",
        "colab": {
          "base_uri": "https://localhost:8080/",
          "height": 513
        }
      },
      "source": [
        "over_2mm.plot(kind='barh', figsize=(10, 8))"
      ],
      "execution_count": 44,
      "outputs": [
        {
          "output_type": "execute_result",
          "data": {
            "text/plain": [
              "<matplotlib.axes._subplots.AxesSubplot at 0x7f2562434860>"
            ]
          },
          "metadata": {
            "tags": []
          },
          "execution_count": 44
        },
        {
          "output_type": "display_data",
          "data": {
            "image/png": "[encoded data removed]",
            "text/plain": [
              "<Figure size 720x576 with 1 Axes>"
            ]
          },
          "metadata": {
            "tags": [],
            "needs_background": "light"
          }
        }
      ]
    },
    {
      "cell_type": "code",
      "metadata": {
        "id": "1rrZ07jzUEW0"
      },
      "source": [
        "def get_top_amounts(group, key, n=5):\n",
        "    totals = group.groupby(key)['contb_receipt_amt'].sum()\n",
        "    return totals.nlargest(n)"
      ],
      "execution_count": 45,
      "outputs": []
    },
    {
      "cell_type": "code",
      "metadata": {
        "id": "-XbFh2_CUGUs",
        "outputId": "add79281-24b9-4075-9ae9-a7a3009de872",
        "colab": {
          "base_uri": "https://localhost:8080/"
        }
      },
      "source": [
        "grouped = fec_mrbo.groupby('cand_nm')\n",
        "grouped"
      ],
      "execution_count": 46,
      "outputs": [
        {
          "output_type": "execute_result",
          "data": {
            "text/plain": [
              "<pandas.core.groupby.generic.DataFrameGroupBy object at 0x7f2561ba1eb8>"
            ]
          },
          "metadata": {
            "tags": []
          },
          "execution_count": 46
        }
      ]
    },
    {
      "cell_type": "code",
      "metadata": {
        "id": "WgTrd4ZMUJqt",
        "outputId": "33211675-0c11-4663-8a0f-783fbaf996d8",
        "colab": {
          "base_uri": "https://localhost:8080/"
        }
      },
      "source": [
        "grouped.apply(get_top_amounts, 'contbr_occupation', n=7)"
      ],
      "execution_count": 47,
      "outputs": [
        {
          "output_type": "execute_result",
          "data": {
            "text/plain": [
              "cand_nm        contbr_occupation    \n",
              "Obama, Barack  RETIRED                  25305116.38\n",
              "               ATTORNEY                 11141982.97\n",
              "               INFORMATION REQUESTED     4866973.96\n",
              "               HOMEMAKER                 4248875.80\n",
              "               PHYSICIAN                 3735124.94\n",
              "                                           ...     \n",
              "Romney, Mitt   HOMEMAKER                 8147446.22\n",
              "               ATTORNEY                  5364718.82\n",
              "               PRESIDENT                 2491244.89\n",
              "               EXECUTIVE                 2300947.03\n",
              "               C.E.O.                    1968386.11\n",
              "Name: contb_receipt_amt, Length: 14, dtype: float64"
            ]
          },
          "metadata": {
            "tags": []
          },
          "execution_count": 47
        }
      ]
    },
    {
      "cell_type": "code",
      "metadata": {
        "id": "NXjPVzZqMXrv",
        "outputId": "5d684fa1-e601-4498-dab5-0fe3f4083747",
        "colab": {
          "base_uri": "https://localhost:8080/"
        }
      },
      "source": [
        "grouped.apply(get_top_amounts, 'contbr_employer', n=10)"
      ],
      "execution_count": 48,
      "outputs": [
        {
          "output_type": "execute_result",
          "data": {
            "text/plain": [
              "cand_nm        contbr_employer      \n",
              "Obama, Barack  RETIRED                  22694358.85\n",
              "               SELF-EMPLOYED            17080985.96\n",
              "               NOT EMPLOYED              8586308.70\n",
              "               INFORMATION REQUESTED     5053480.37\n",
              "               HOMEMAKER                 2605408.54\n",
              "                                           ...     \n",
              "Romney, Mitt   CREDIT SUISSE              281150.00\n",
              "               MORGAN STANLEY             267266.00\n",
              "               GOLDMAN SACH & CO.         238250.00\n",
              "               BARCLAYS CAPITAL           162750.00\n",
              "               H.I.G. CAPITAL             139500.00\n",
              "Name: contb_receipt_amt, Length: 20, dtype: float64"
            ]
          },
          "metadata": {
            "tags": []
          },
          "execution_count": 48
        }
      ]
    },
    {
      "cell_type": "code",
      "metadata": {
        "id": "9LjQ4htMM0RT"
      },
      "source": [
        "bins = np.array([0, 1, 10, 100, 1000, 10000,\n",
        "                 100000, 1000000, 10000000])"
      ],
      "execution_count": 49,
      "outputs": []
    },
    {
      "cell_type": "code",
      "metadata": {
        "id": "iL23EQxGM1x5",
        "outputId": "86d977b5-94c2-4b13-bb0d-59c1ea0128f1",
        "colab": {
          "base_uri": "https://localhost:8080/"
        }
      },
      "source": [
        "labels = pd.cut(fec_mrbo.contb_receipt_amt, bins)\n",
        "labels"
      ],
      "execution_count": 50,
      "outputs": [
        {
          "output_type": "execute_result",
          "data": {
            "text/plain": [
              "411         (10, 100]\n",
              "412       (100, 1000]\n",
              "413       (100, 1000]\n",
              "414         (10, 100]\n",
              "415         (10, 100]\n",
              "             ...     \n",
              "701381      (10, 100]\n",
              "701382    (100, 1000]\n",
              "701383        (1, 10]\n",
              "701384      (10, 100]\n",
              "701385    (100, 1000]\n",
              "Name: contb_receipt_amt, Length: 694282, dtype: category\n",
              "Categories (8, interval[int64]): [(0, 1] < (1, 10] < (10, 100] < (100, 1000] < (1000, 10000] <\n",
              "                                  (10000, 100000] < (100000, 1000000] < (1000000, 10000000]]"
            ]
          },
          "metadata": {
            "tags": []
          },
          "execution_count": 50
        }
      ]
    },
    {
      "cell_type": "code",
      "metadata": {
        "id": "hEZ4EfeFM-GX",
        "outputId": "386944e8-f66a-43c5-c501-50f5ddebecc5",
        "colab": {
          "base_uri": "https://localhost:8080/",
          "height": 317
        }
      },
      "source": [
        "grouped = fec_mrbo.groupby(['cand_nm', labels])\n",
        "grouped.size().unstack(0)"
      ],
      "execution_count": 51,
      "outputs": [
        {
          "output_type": "execute_result",
          "data": {
            "text/html": [
              "<div>\n",
              "<style scoped>\n",
              "    .dataframe tbody tr th:only-of-type {\n",
              "        vertical-align: middle;\n",
              "    }\n",
              "\n",
              "    .dataframe tbody tr th {\n",
              "        vertical-align: top;\n",
              "    }\n",
              "\n",
              "    .dataframe thead th {\n",
              "        text-align: right;\n",
              "    }\n",
              "</style>\n",
              "<table border=\"1\" class=\"dataframe\">\n",
              "  <thead>\n",
              "    <tr style=\"text-align: right;\">\n",
              "      <th>cand_nm</th>\n",
              "      <th>Obama, Barack</th>\n",
              "      <th>Romney, Mitt</th>\n",
              "    </tr>\n",
              "    <tr>\n",
              "      <th>contb_receipt_amt</th>\n",
              "      <th></th>\n",
              "      <th></th>\n",
              "    </tr>\n",
              "  </thead>\n",
              "  <tbody>\n",
              "    <tr>\n",
              "      <th>(0, 1]</th>\n",
              "      <td>493</td>\n",
              "      <td>77</td>\n",
              "    </tr>\n",
              "    <tr>\n",
              "      <th>(1, 10]</th>\n",
              "      <td>40070</td>\n",
              "      <td>3681</td>\n",
              "    </tr>\n",
              "    <tr>\n",
              "      <th>(10, 100]</th>\n",
              "      <td>372280</td>\n",
              "      <td>31853</td>\n",
              "    </tr>\n",
              "    <tr>\n",
              "      <th>(100, 1000]</th>\n",
              "      <td>153991</td>\n",
              "      <td>43357</td>\n",
              "    </tr>\n",
              "    <tr>\n",
              "      <th>(1000, 10000]</th>\n",
              "      <td>22284</td>\n",
              "      <td>26186</td>\n",
              "    </tr>\n",
              "    <tr>\n",
              "      <th>(10000, 100000]</th>\n",
              "      <td>2</td>\n",
              "      <td>1</td>\n",
              "    </tr>\n",
              "    <tr>\n",
              "      <th>(100000, 1000000]</th>\n",
              "      <td>3</td>\n",
              "      <td>0</td>\n",
              "    </tr>\n",
              "    <tr>\n",
              "      <th>(1000000, 10000000]</th>\n",
              "      <td>4</td>\n",
              "      <td>0</td>\n",
              "    </tr>\n",
              "  </tbody>\n",
              "</table>\n",
              "</div>"
            ],
            "text/plain": [
              "cand_nm              Obama, Barack  Romney, Mitt\n",
              "contb_receipt_amt                               \n",
              "(0, 1]                         493            77\n",
              "(1, 10]                      40070          3681\n",
              "(10, 100]                   372280         31853\n",
              "(100, 1000]                 153991         43357\n",
              "(1000, 10000]                22284         26186\n",
              "(10000, 100000]                  2             1\n",
              "(100000, 1000000]                3             0\n",
              "(1000000, 10000000]              4             0"
            ]
          },
          "metadata": {
            "tags": []
          },
          "execution_count": 51
        }
      ]
    },
    {
      "cell_type": "code",
      "metadata": {
        "id": "DozMPwNFNISQ",
        "outputId": "20ccee59-a5ca-4a57-bff7-faa39bb73ea7",
        "colab": {
          "base_uri": "https://localhost:8080/",
          "height": 317
        }
      },
      "source": [
        "bucket_sums = grouped.contb_receipt_amt.sum().unstack(0)\n",
        "bucket_sums"
      ],
      "execution_count": 52,
      "outputs": [
        {
          "output_type": "execute_result",
          "data": {
            "text/html": [
              "<div>\n",
              "<style scoped>\n",
              "    .dataframe tbody tr th:only-of-type {\n",
              "        vertical-align: middle;\n",
              "    }\n",
              "\n",
              "    .dataframe tbody tr th {\n",
              "        vertical-align: top;\n",
              "    }\n",
              "\n",
              "    .dataframe thead th {\n",
              "        text-align: right;\n",
              "    }\n",
              "</style>\n",
              "<table border=\"1\" class=\"dataframe\">\n",
              "  <thead>\n",
              "    <tr style=\"text-align: right;\">\n",
              "      <th>cand_nm</th>\n",
              "      <th>Obama, Barack</th>\n",
              "      <th>Romney, Mitt</th>\n",
              "    </tr>\n",
              "    <tr>\n",
              "      <th>contb_receipt_amt</th>\n",
              "      <th></th>\n",
              "      <th></th>\n",
              "    </tr>\n",
              "  </thead>\n",
              "  <tbody>\n",
              "    <tr>\n",
              "      <th>(0, 1]</th>\n",
              "      <td>318.24</td>\n",
              "      <td>77.00</td>\n",
              "    </tr>\n",
              "    <tr>\n",
              "      <th>(1, 10]</th>\n",
              "      <td>337267.62</td>\n",
              "      <td>29819.66</td>\n",
              "    </tr>\n",
              "    <tr>\n",
              "      <th>(10, 100]</th>\n",
              "      <td>20288981.41</td>\n",
              "      <td>1987783.76</td>\n",
              "    </tr>\n",
              "    <tr>\n",
              "      <th>(100, 1000]</th>\n",
              "      <td>54798531.46</td>\n",
              "      <td>22363381.69</td>\n",
              "    </tr>\n",
              "    <tr>\n",
              "      <th>(1000, 10000]</th>\n",
              "      <td>51753705.67</td>\n",
              "      <td>63942145.42</td>\n",
              "    </tr>\n",
              "    <tr>\n",
              "      <th>(10000, 100000]</th>\n",
              "      <td>59100.00</td>\n",
              "      <td>12700.00</td>\n",
              "    </tr>\n",
              "    <tr>\n",
              "      <th>(100000, 1000000]</th>\n",
              "      <td>1490683.08</td>\n",
              "      <td>NaN</td>\n",
              "    </tr>\n",
              "    <tr>\n",
              "      <th>(1000000, 10000000]</th>\n",
              "      <td>7148839.76</td>\n",
              "      <td>NaN</td>\n",
              "    </tr>\n",
              "  </tbody>\n",
              "</table>\n",
              "</div>"
            ],
            "text/plain": [
              "cand_nm              Obama, Barack  Romney, Mitt\n",
              "contb_receipt_amt                               \n",
              "(0, 1]                      318.24         77.00\n",
              "(1, 10]                  337267.62      29819.66\n",
              "(10, 100]              20288981.41    1987783.76\n",
              "(100, 1000]            54798531.46   22363381.69\n",
              "(1000, 10000]          51753705.67   63942145.42\n",
              "(10000, 100000]           59100.00      12700.00\n",
              "(100000, 1000000]       1490683.08           NaN\n",
              "(1000000, 10000000]     7148839.76           NaN"
            ]
          },
          "metadata": {
            "tags": []
          },
          "execution_count": 52
        }
      ]
    },
    {
      "cell_type": "code",
      "metadata": {
        "id": "NhgWEnOJNRtS",
        "outputId": "0a3cdfa8-d7b8-4658-8c9d-c01beae5de12",
        "colab": {
          "base_uri": "https://localhost:8080/",
          "height": 317
        }
      },
      "source": [
        "normed_sums = bucket_sums.div(bucket_sums.sum(axis=1), axis=0)\n",
        "normed_sums"
      ],
      "execution_count": 53,
      "outputs": [
        {
          "output_type": "execute_result",
          "data": {
            "text/html": [
              "<div>\n",
              "<style scoped>\n",
              "    .dataframe tbody tr th:only-of-type {\n",
              "        vertical-align: middle;\n",
              "    }\n",
              "\n",
              "    .dataframe tbody tr th {\n",
              "        vertical-align: top;\n",
              "    }\n",
              "\n",
              "    .dataframe thead th {\n",
              "        text-align: right;\n",
              "    }\n",
              "</style>\n",
              "<table border=\"1\" class=\"dataframe\">\n",
              "  <thead>\n",
              "    <tr style=\"text-align: right;\">\n",
              "      <th>cand_nm</th>\n",
              "      <th>Obama, Barack</th>\n",
              "      <th>Romney, Mitt</th>\n",
              "    </tr>\n",
              "    <tr>\n",
              "      <th>contb_receipt_amt</th>\n",
              "      <th></th>\n",
              "      <th></th>\n",
              "    </tr>\n",
              "  </thead>\n",
              "  <tbody>\n",
              "    <tr>\n",
              "      <th>(0, 1]</th>\n",
              "      <td>0.805182</td>\n",
              "      <td>0.194818</td>\n",
              "    </tr>\n",
              "    <tr>\n",
              "      <th>(1, 10]</th>\n",
              "      <td>0.918767</td>\n",
              "      <td>0.081233</td>\n",
              "    </tr>\n",
              "    <tr>\n",
              "      <th>(10, 100]</th>\n",
              "      <td>0.910769</td>\n",
              "      <td>0.089231</td>\n",
              "    </tr>\n",
              "    <tr>\n",
              "      <th>(100, 1000]</th>\n",
              "      <td>0.710176</td>\n",
              "      <td>0.289824</td>\n",
              "    </tr>\n",
              "    <tr>\n",
              "      <th>(1000, 10000]</th>\n",
              "      <td>0.447326</td>\n",
              "      <td>0.552674</td>\n",
              "    </tr>\n",
              "    <tr>\n",
              "      <th>(10000, 100000]</th>\n",
              "      <td>0.823120</td>\n",
              "      <td>0.176880</td>\n",
              "    </tr>\n",
              "    <tr>\n",
              "      <th>(100000, 1000000]</th>\n",
              "      <td>1.000000</td>\n",
              "      <td>NaN</td>\n",
              "    </tr>\n",
              "    <tr>\n",
              "      <th>(1000000, 10000000]</th>\n",
              "      <td>1.000000</td>\n",
              "      <td>NaN</td>\n",
              "    </tr>\n",
              "  </tbody>\n",
              "</table>\n",
              "</div>"
            ],
            "text/plain": [
              "cand_nm              Obama, Barack  Romney, Mitt\n",
              "contb_receipt_amt                               \n",
              "(0, 1]                    0.805182      0.194818\n",
              "(1, 10]                   0.918767      0.081233\n",
              "(10, 100]                 0.910769      0.089231\n",
              "(100, 1000]               0.710176      0.289824\n",
              "(1000, 10000]             0.447326      0.552674\n",
              "(10000, 100000]           0.823120      0.176880\n",
              "(100000, 1000000]         1.000000           NaN\n",
              "(1000000, 10000000]       1.000000           NaN"
            ]
          },
          "metadata": {
            "tags": []
          },
          "execution_count": 53
        }
      ]
    },
    {
      "cell_type": "code",
      "metadata": {
        "id": "q9ROvu3qNZeP",
        "outputId": "b075e259-521a-469d-dfb1-d7bffefbeba5",
        "colab": {
          "base_uri": "https://localhost:8080/",
          "height": 501
        }
      },
      "source": [
        "normed_sums[:-2].plot(kind='barh', figsize=(10, 8))"
      ],
      "execution_count": 54,
      "outputs": [
        {
          "output_type": "execute_result",
          "data": {
            "text/plain": [
              "<matplotlib.axes._subplots.AxesSubplot at 0x7f2561715208>"
            ]
          },
          "metadata": {
            "tags": []
          },
          "execution_count": 54
        },
        {
          "output_type": "display_data",
          "data": {
            "image/png": "[encoded data removed]",
            "text/plain": [
              "<Figure size 720x576 with 1 Axes>"
            ]
          },
          "metadata": {
            "tags": [],
            "needs_background": "light"
          }
        }
      ]
    },
    {
      "cell_type": "code",
      "metadata": {
        "id": "MqJXpmvINmcl"
      },
      "source": [
        "grouped = fec_mrbo.groupby(['cand_nm', 'contbr_st'])"
      ],
      "execution_count": 56,
      "outputs": []
    },
    {
      "cell_type": "code",
      "metadata": {
        "id": "AOqA2Db2Nq4H",
        "outputId": "0d516cc9-5e20-4604-eee2-c30df6838d66",
        "colab": {
          "base_uri": "https://localhost:8080/",
          "height": 436
        }
      },
      "source": [
        "totals = grouped.contb_receipt_amt.sum().unstack(0).fillna(0)\n",
        "totals"
      ],
      "execution_count": 57,
      "outputs": [
        {
          "output_type": "execute_result",
          "data": {
            "text/html": [
              "<div>\n",
              "<style scoped>\n",
              "    .dataframe tbody tr th:only-of-type {\n",
              "        vertical-align: middle;\n",
              "    }\n",
              "\n",
              "    .dataframe tbody tr th {\n",
              "        vertical-align: top;\n",
              "    }\n",
              "\n",
              "    .dataframe thead th {\n",
              "        text-align: right;\n",
              "    }\n",
              "</style>\n",
              "<table border=\"1\" class=\"dataframe\">\n",
              "  <thead>\n",
              "    <tr style=\"text-align: right;\">\n",
              "      <th>cand_nm</th>\n",
              "      <th>Obama, Barack</th>\n",
              "      <th>Romney, Mitt</th>\n",
              "    </tr>\n",
              "    <tr>\n",
              "      <th>contbr_st</th>\n",
              "      <th></th>\n",
              "      <th></th>\n",
              "    </tr>\n",
              "  </thead>\n",
              "  <tbody>\n",
              "    <tr>\n",
              "      <th>AA</th>\n",
              "      <td>56405.00</td>\n",
              "      <td>135.00</td>\n",
              "    </tr>\n",
              "    <tr>\n",
              "      <th>AB</th>\n",
              "      <td>2048.00</td>\n",
              "      <td>0.00</td>\n",
              "    </tr>\n",
              "    <tr>\n",
              "      <th>AE</th>\n",
              "      <td>42973.75</td>\n",
              "      <td>5680.00</td>\n",
              "    </tr>\n",
              "    <tr>\n",
              "      <th>AK</th>\n",
              "      <td>281840.15</td>\n",
              "      <td>86204.24</td>\n",
              "    </tr>\n",
              "    <tr>\n",
              "      <th>AL</th>\n",
              "      <td>543123.48</td>\n",
              "      <td>527303.51</td>\n",
              "    </tr>\n",
              "    <tr>\n",
              "      <th>...</th>\n",
              "      <td>...</td>\n",
              "      <td>...</td>\n",
              "    </tr>\n",
              "    <tr>\n",
              "      <th>WI</th>\n",
              "      <td>1130155.46</td>\n",
              "      <td>270316.32</td>\n",
              "    </tr>\n",
              "    <tr>\n",
              "      <th>WV</th>\n",
              "      <td>169154.47</td>\n",
              "      <td>126725.12</td>\n",
              "    </tr>\n",
              "    <tr>\n",
              "      <th>WY</th>\n",
              "      <td>194046.74</td>\n",
              "      <td>252595.84</td>\n",
              "    </tr>\n",
              "    <tr>\n",
              "      <th>XX</th>\n",
              "      <td>0.00</td>\n",
              "      <td>400250.00</td>\n",
              "    </tr>\n",
              "    <tr>\n",
              "      <th>ZZ</th>\n",
              "      <td>5963.00</td>\n",
              "      <td>0.00</td>\n",
              "    </tr>\n",
              "  </tbody>\n",
              "</table>\n",
              "<p>67 rows × 2 columns</p>\n",
              "</div>"
            ],
            "text/plain": [
              "cand_nm    Obama, Barack  Romney, Mitt\n",
              "contbr_st                             \n",
              "AA              56405.00        135.00\n",
              "AB               2048.00          0.00\n",
              "AE              42973.75       5680.00\n",
              "AK             281840.15      86204.24\n",
              "AL             543123.48     527303.51\n",
              "...                  ...           ...\n",
              "WI            1130155.46     270316.32\n",
              "WV             169154.47     126725.12\n",
              "WY             194046.74     252595.84\n",
              "XX                  0.00     400250.00\n",
              "ZZ               5963.00          0.00\n",
              "\n",
              "[67 rows x 2 columns]"
            ]
          },
          "metadata": {
            "tags": []
          },
          "execution_count": 57
        }
      ]
    },
    {
      "cell_type": "code",
      "metadata": {
        "id": "KCG6LOeoNxbm",
        "outputId": "78d58777-565a-4547-b034-4edc7cd543b3",
        "colab": {
          "base_uri": "https://localhost:8080/",
          "height": 436
        }
      },
      "source": [
        "totals = totals[totals.sum(1) > 100000]\n",
        "totals"
      ],
      "execution_count": 58,
      "outputs": [
        {
          "output_type": "execute_result",
          "data": {
            "text/html": [
              "<div>\n",
              "<style scoped>\n",
              "    .dataframe tbody tr th:only-of-type {\n",
              "        vertical-align: middle;\n",
              "    }\n",
              "\n",
              "    .dataframe tbody tr th {\n",
              "        vertical-align: top;\n",
              "    }\n",
              "\n",
              "    .dataframe thead th {\n",
              "        text-align: right;\n",
              "    }\n",
              "</style>\n",
              "<table border=\"1\" class=\"dataframe\">\n",
              "  <thead>\n",
              "    <tr style=\"text-align: right;\">\n",
              "      <th>cand_nm</th>\n",
              "      <th>Obama, Barack</th>\n",
              "      <th>Romney, Mitt</th>\n",
              "    </tr>\n",
              "    <tr>\n",
              "      <th>contbr_st</th>\n",
              "      <th></th>\n",
              "      <th></th>\n",
              "    </tr>\n",
              "  </thead>\n",
              "  <tbody>\n",
              "    <tr>\n",
              "      <th>AK</th>\n",
              "      <td>281840.15</td>\n",
              "      <td>86204.24</td>\n",
              "    </tr>\n",
              "    <tr>\n",
              "      <th>AL</th>\n",
              "      <td>543123.48</td>\n",
              "      <td>527303.51</td>\n",
              "    </tr>\n",
              "    <tr>\n",
              "      <th>AR</th>\n",
              "      <td>359247.28</td>\n",
              "      <td>105556.00</td>\n",
              "    </tr>\n",
              "    <tr>\n",
              "      <th>AZ</th>\n",
              "      <td>1506476.98</td>\n",
              "      <td>1888436.23</td>\n",
              "    </tr>\n",
              "    <tr>\n",
              "      <th>CA</th>\n",
              "      <td>23824984.24</td>\n",
              "      <td>11237636.60</td>\n",
              "    </tr>\n",
              "    <tr>\n",
              "      <th>...</th>\n",
              "      <td>...</td>\n",
              "      <td>...</td>\n",
              "    </tr>\n",
              "    <tr>\n",
              "      <th>WA</th>\n",
              "      <td>4250933.16</td>\n",
              "      <td>1341521.56</td>\n",
              "    </tr>\n",
              "    <tr>\n",
              "      <th>WI</th>\n",
              "      <td>1130155.46</td>\n",
              "      <td>270316.32</td>\n",
              "    </tr>\n",
              "    <tr>\n",
              "      <th>WV</th>\n",
              "      <td>169154.47</td>\n",
              "      <td>126725.12</td>\n",
              "    </tr>\n",
              "    <tr>\n",
              "      <th>WY</th>\n",
              "      <td>194046.74</td>\n",
              "      <td>252595.84</td>\n",
              "    </tr>\n",
              "    <tr>\n",
              "      <th>XX</th>\n",
              "      <td>0.00</td>\n",
              "      <td>400250.00</td>\n",
              "    </tr>\n",
              "  </tbody>\n",
              "</table>\n",
              "<p>52 rows × 2 columns</p>\n",
              "</div>"
            ],
            "text/plain": [
              "cand_nm    Obama, Barack  Romney, Mitt\n",
              "contbr_st                             \n",
              "AK             281840.15      86204.24\n",
              "AL             543123.48     527303.51\n",
              "AR             359247.28     105556.00\n",
              "AZ            1506476.98    1888436.23\n",
              "CA           23824984.24   11237636.60\n",
              "...                  ...           ...\n",
              "WA            4250933.16    1341521.56\n",
              "WI            1130155.46     270316.32\n",
              "WV             169154.47     126725.12\n",
              "WY             194046.74     252595.84\n",
              "XX                  0.00     400250.00\n",
              "\n",
              "[52 rows x 2 columns]"
            ]
          },
          "metadata": {
            "tags": []
          },
          "execution_count": 58
        }
      ]
    },
    {
      "cell_type": "code",
      "metadata": {
        "id": "y4pkHA9mN5GL",
        "outputId": "912a6c4b-792e-46fd-a65b-eb047b24b3eb",
        "colab": {
          "base_uri": "https://localhost:8080/",
          "height": 377
        }
      },
      "source": [
        "percent = totals.div(totals.sum(1), axis=0)\n",
        "percent[:10]"
      ],
      "execution_count": 59,
      "outputs": [
        {
          "output_type": "execute_result",
          "data": {
            "text/html": [
              "<div>\n",
              "<style scoped>\n",
              "    .dataframe tbody tr th:only-of-type {\n",
              "        vertical-align: middle;\n",
              "    }\n",
              "\n",
              "    .dataframe tbody tr th {\n",
              "        vertical-align: top;\n",
              "    }\n",
              "\n",
              "    .dataframe thead th {\n",
              "        text-align: right;\n",
              "    }\n",
              "</style>\n",
              "<table border=\"1\" class=\"dataframe\">\n",
              "  <thead>\n",
              "    <tr style=\"text-align: right;\">\n",
              "      <th>cand_nm</th>\n",
              "      <th>Obama, Barack</th>\n",
              "      <th>Romney, Mitt</th>\n",
              "    </tr>\n",
              "    <tr>\n",
              "      <th>contbr_st</th>\n",
              "      <th></th>\n",
              "      <th></th>\n",
              "    </tr>\n",
              "  </thead>\n",
              "  <tbody>\n",
              "    <tr>\n",
              "      <th>AK</th>\n",
              "      <td>0.765778</td>\n",
              "      <td>0.234222</td>\n",
              "    </tr>\n",
              "    <tr>\n",
              "      <th>AL</th>\n",
              "      <td>0.507390</td>\n",
              "      <td>0.492610</td>\n",
              "    </tr>\n",
              "    <tr>\n",
              "      <th>AR</th>\n",
              "      <td>0.772902</td>\n",
              "      <td>0.227098</td>\n",
              "    </tr>\n",
              "    <tr>\n",
              "      <th>AZ</th>\n",
              "      <td>0.443745</td>\n",
              "      <td>0.556255</td>\n",
              "    </tr>\n",
              "    <tr>\n",
              "      <th>CA</th>\n",
              "      <td>0.679498</td>\n",
              "      <td>0.320502</td>\n",
              "    </tr>\n",
              "    <tr>\n",
              "      <th>CO</th>\n",
              "      <td>0.585970</td>\n",
              "      <td>0.414030</td>\n",
              "    </tr>\n",
              "    <tr>\n",
              "      <th>CT</th>\n",
              "      <td>0.371476</td>\n",
              "      <td>0.628524</td>\n",
              "    </tr>\n",
              "    <tr>\n",
              "      <th>DC</th>\n",
              "      <td>0.810113</td>\n",
              "      <td>0.189887</td>\n",
              "    </tr>\n",
              "    <tr>\n",
              "      <th>DE</th>\n",
              "      <td>0.802776</td>\n",
              "      <td>0.197224</td>\n",
              "    </tr>\n",
              "    <tr>\n",
              "      <th>FL</th>\n",
              "      <td>0.467417</td>\n",
              "      <td>0.532583</td>\n",
              "    </tr>\n",
              "  </tbody>\n",
              "</table>\n",
              "</div>"
            ],
            "text/plain": [
              "cand_nm    Obama, Barack  Romney, Mitt\n",
              "contbr_st                             \n",
              "AK              0.765778      0.234222\n",
              "AL              0.507390      0.492610\n",
              "AR              0.772902      0.227098\n",
              "AZ              0.443745      0.556255\n",
              "CA              0.679498      0.320502\n",
              "CO              0.585970      0.414030\n",
              "CT              0.371476      0.628524\n",
              "DC              0.810113      0.189887\n",
              "DE              0.802776      0.197224\n",
              "FL              0.467417      0.532583"
            ]
          },
          "metadata": {
            "tags": []
          },
          "execution_count": 59
        }
      ]
    }
  ]
}