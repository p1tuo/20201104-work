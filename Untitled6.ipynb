{
  "nbformat": 4,
  "nbformat_minor": 0,
  "metadata": {
    "colab": {
      "name": "Untitled6.ipynb",
      "provenance": [],
      "authorship_tag": "ABX9TyNBIaAxPpKYFIeMemcXf6+f",
      "include_colab_link": true
    },
    "kernelspec": {
      "name": "python3",
      "display_name": "Python 3"
    }
  },
  "cells": [
    {
      "cell_type": "markdown",
      "metadata": {
        "id": "view-in-github",
        "colab_type": "text"
      },
      "source": [
        "<a href=\"https://colab.research.google.com/github/p1tuo/20201104-work/blob/main/Untitled6.ipynb\" target=\"_parent\"><img src=\"https://colab.research.google.com/assets/colab-badge.svg\" alt=\"Open In Colab\"/></a>"
      ]
    },
    {
      "cell_type": "code",
      "metadata": {
        "id": "jpLoXj1hI6Ge"
      },
      "source": [
        "import numpy as np\n",
        "import pandas as pd"
      ],
      "execution_count": 2,
      "outputs": []
    },
    {
      "cell_type": "code",
      "metadata": {
        "id": "BabDgUvRDOW8",
        "outputId": "cbc21c15-5842-4332-8029-af5c2b55471b",
        "colab": {
          "base_uri": "https://localhost:8080/"
        }
      },
      "source": [
        "!wget https://raw.githubusercontent.com/wesm/pydata-book/2nd-edition/datasets/fec/P00000001-ALL.csv"
      ],
      "execution_count": 6,
      "outputs": [
        {
          "output_type": "stream",
          "text": [
            "--2020-11-04 02:53:09--  https://raw.githubusercontent.com/wesm/pydata-book/2nd-edition/datasets/fec/P00000001-ALL.csv\n",
            "Resolving raw.githubusercontent.com (raw.githubusercontent.com)... 151.101.0.133, 151.101.64.133, 151.101.128.133, ...\n",
            "Connecting to raw.githubusercontent.com (raw.githubusercontent.com)|151.101.0.133|:443... connected.\n",
            "HTTP request sent, awaiting response... 200 OK\n",
            "Length: 157871393 (151M) [text/plain]\n",
            "Saving to: ‘P00000001-ALL.csv.2’\n",
            "\n",
            "P00000001-ALL.csv.2 100%[===================>] 150.56M   119MB/s    in 1.3s    \n",
            "\n",
            "2020-11-04 02:53:11 (119 MB/s) - ‘P00000001-ALL.csv.2’ saved [157871393/157871393]\n",
            "\n"
          ],
          "name": "stdout"
        }
      ]
    },
    {
      "cell_type": "code",
      "metadata": {
        "id": "gIdFuF6MKeT9"
      },
      "source": [
        "fec = pd.read_csv('P00000001-ALL.csv', low_memory=False)"
      ],
      "execution_count": 8,
      "outputs": []
    },
    {
      "cell_type": "code",
      "metadata": {
        "id": "gKe44M7YLdof",
        "outputId": "aa92c311-fa50-4d49-d9be-0e2e1aa97586",
        "colab": {
          "base_uri": "https://localhost:8080/"
        }
      },
      "source": [
        "fec.info()\n"
      ],
      "execution_count": 11,
      "outputs": [
        {
          "output_type": "stream",
          "text": [
            "<class 'pandas.core.frame.DataFrame'>\n",
            "RangeIndex: 1001731 entries, 0 to 1001730\n",
            "Data columns (total 16 columns):\n",
            " #   Column             Non-Null Count    Dtype  \n",
            "---  ------             --------------    -----  \n",
            " 0   cmte_id            1001731 non-null  object \n",
            " 1   cand_id            1001731 non-null  object \n",
            " 2   cand_nm            1001731 non-null  object \n",
            " 3   contbr_nm          1001731 non-null  object \n",
            " 4   contbr_city        1001712 non-null  object \n",
            " 5   contbr_st          1001727 non-null  object \n",
            " 6   contbr_zip         1001620 non-null  object \n",
            " 7   contbr_employer    988002 non-null   object \n",
            " 8   contbr_occupation  993301 non-null   object \n",
            " 9   contb_receipt_amt  1001731 non-null  float64\n",
            " 10  contb_receipt_dt   1001731 non-null  object \n",
            " 11  receipt_desc       14166 non-null    object \n",
            " 12  memo_cd            92482 non-null    object \n",
            " 13  memo_text          97770 non-null    object \n",
            " 14  form_tp            1001731 non-null  object \n",
            " 15  file_num           1001731 non-null  int64  \n",
            "dtypes: float64(1), int64(1), object(14)\n",
            "memory usage: 122.3+ MB\n"
          ],
          "name": "stdout"
        }
      ]
    },
    {
      "cell_type": "code",
      "metadata": {
        "id": "vr-ofofrM5oW",
        "outputId": "31bc02eb-a7f5-4a8d-92a5-290b36e01064",
        "colab": {
          "base_uri": "https://localhost:8080/"
        }
      },
      "source": [
        "fec.iloc[123456]\n"
      ],
      "execution_count": 12,
      "outputs": [
        {
          "output_type": "execute_result",
          "data": {
            "text/plain": [
              "cmte_id                             C00431445\n",
              "cand_id                             P80003338\n",
              "cand_nm                         Obama, Barack\n",
              "contbr_nm                         ELLMAN, IRA\n",
              "contbr_city                             TEMPE\n",
              "contbr_st                                  AZ\n",
              "contbr_zip                          852816719\n",
              "contbr_employer      ARIZONA STATE UNIVERSITY\n",
              "contbr_occupation                   PROFESSOR\n",
              "contb_receipt_amt                          50\n",
              "contb_receipt_dt                    01-DEC-11\n",
              "receipt_desc                              NaN\n",
              "memo_cd                                   NaN\n",
              "memo_text                                 NaN\n",
              "form_tp                                 SA17A\n",
              "file_num                               772372\n",
              "Name: 123456, dtype: object"
            ]
          },
          "metadata": {
            "tags": []
          },
          "execution_count": 12
        }
      ]
    }
  ]
}